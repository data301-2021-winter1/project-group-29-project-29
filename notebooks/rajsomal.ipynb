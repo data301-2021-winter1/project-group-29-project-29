{
 "cells": [
  {
   "cell_type": "markdown",
   "source": [
    "Raj Somal"
   ],
   "metadata": {}
  },
  {
   "cell_type": "markdown",
   "source": [
    "## Research question/interests\n",
    "\n",
    "My research question is why are the mental health rates higher/lower in California compared to the national rate?"
   ],
   "metadata": {}
  }
 ],
 "metadata": {
  "orig_nbformat": 4,
  "language_info": {
   "name": "plaintext"
  }
 },
 "nbformat": 4,
 "nbformat_minor": 2
}